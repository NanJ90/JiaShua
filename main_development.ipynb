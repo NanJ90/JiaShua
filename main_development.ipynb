{
 "cells": [
  {
   "cell_type": "code",
   "execution_count": 15,
   "metadata": {},
   "outputs": [],
   "source": [
    "import random\n",
    "# Simulate two dice being rolled and their resulting rolls being summed\n",
    "def DICE():\n",
    "    x1 = random.randint(1,6)\n",
    "    x2 = random.randint(1,6)\n",
    "    return x1 + x2"
   ]
  },
  {
   "cell_type": "code",
   "execution_count": 16,
   "metadata": {},
   "outputs": [
    {
     "data": {
      "text/plain": [
       "(array([ 2780.,  5625.,  8393., 11162., 13871., 16692., 13722., 10941.,\n",
       "         8296.,  5740.,  2778.]),\n",
       " array([ 2.        ,  2.90909091,  3.81818182,  4.72727273,  5.63636364,\n",
       "         6.54545455,  7.45454545,  8.36363636,  9.27272727, 10.18181818,\n",
       "        11.09090909, 12.        ]),\n",
       " <BarContainer object of 11 artists>)"
      ]
     },
     "execution_count": 16,
     "metadata": {},
     "output_type": "execute_result"
    },
    {
     "data": {
      "image/png": "[encoded data removed]",
      "text/plain": [
       "<Figure size 432x288 with 1 Axes>"
      ]
     },
     "metadata": {
      "needs_background": "light"
     },
     "output_type": "display_data"
    }
   ],
   "source": [
    "# Testing random distribution\n",
    "x=[]\n",
    "for i in range(100000):\n",
    "    x.append(DICE())\n",
    "    \n",
    "import matplotlib.pyplot as plt\n",
    "plt.hist(x, bins=11)"
   ]
  },
  {
   "cell_type": "markdown",
   "metadata": {},
   "source": [
    "# Main class\n",
    "## To do:\n",
    "## Timing and calendar\n",
    "## delay(), service() and removing customers from queue"
   ]
  },
  {
   "cell_type": "code",
   "execution_count": 1,
   "metadata": {},
   "outputs": [],
   "source": [
    "import numpy as np\n",
    "\n",
    "# Class specifics:\n",
    "# - time is measured in minutes\n",
    "# - customers refer to callers\n",
    "\n",
    "# Random variables:\n",
    "#1. Time between arrivals of calls at the center = (DICE * 0.333) minutes.\n",
    "#2. The delay at the IVR unit = (DICE * 0.3) minutes.\n",
    "#3. The delay for car-stereo call processing = (DICE * 2) minutes.\n",
    "#4. The delay for other-product call processing= (DICE) minutes. \n",
    "\n",
    "class callCenter():# a call center simulation class\n",
    "    #set random seed\n",
    "    np.random.seed(0)\n",
    "    def __init__(self):\n",
    "        self.maximum_slots = 5 # maximum queue length for call arrivals to splitter\n",
    "        self.arrival_queue = [] #a queue before others have decided to go to car or other.\n",
    "        self.car_stereo_representative_queue = []\n",
    "        self.others_representative_queue = []\n",
    "        self.server_state = 0 #0 = idle, 1 = busy\n",
    "        self.current_time = 0\n",
    "        # print(\"Call Center Simulation\")\n",
    "        \n",
    "    # Input: customer - a random number generated representing if a customer is calling for car stereo or others\n",
    "    # Assumption: Because the run function already handles the arrival queue busy signaling, we do not need to here\n",
    "    def arrival (self,customer):\n",
    "        # 11am to 4pm - 5 hours of peak time\n",
    "        if self.current_time > 300: #if time is greater than 5*60 = 300 minutes, then call center is closed\n",
    "            print(\"Call Center Closed\")\n",
    "            return\n",
    "        \n",
    "        print(\"Arrival\")\n",
    "        \n",
    "        # Delay at IVR unit\n",
    "        delay(DICE() * 0.3)\n",
    "        \n",
    "        if customer <= 4: #if random DICE number is <= 4, then add to car-stereo queue\n",
    "            if len(self.car_stereo_representative_queue) > self.maximum_slots: #if there are no available spots for car stereo\n",
    "                if self.arrival_queue > self.maximum_slots:\n",
    "                    print(\"No available slots\")\n",
    "                    return\n",
    "                self.arrival_queue.append(customer)\n",
    "                \n",
    "                # Delay for car-stereo call processing\n",
    "                delay(DICE() * 2)\n",
    "                \n",
    "            #there are availble spots for car stereo\n",
    "            print(\"Add to Car Stereo Queue\")\n",
    "            self.car_stereo_representative_queue.append(customer)\n",
    "        #if random number is greater than 4, then add to others queue\n",
    "        else:\n",
    "            if len(self.others_representative_queue) > self.maximum_slots: #if there are no available spots for others\n",
    "                if self.arrival_queue > self.maximum_slots:\n",
    "                    print(\"No available slots\")\n",
    "                    return \n",
    "                self.arrival_queue.append(customer)\n",
    "                \n",
    "                # Delay for other-product call processing\n",
    "                delay(DICE())\n",
    "            print(\"Add to Others Queue\")\n",
    "            self.others_representative_queue.append(customer)\n",
    "\n",
    "    def available_signal_checking(self, queue):\n",
    "        if len(queue) > self.maximum_slots:\n",
    "            return 0 #0 = no signal\n",
    "        else:\n",
    "            return 1 #1 = signal\n",
    "    \n",
    "    def run(self,customer):\n",
    "        self.server_state = 1\n",
    "        while self.server_state == 1:\n",
    "            # self.current_time += 1\n",
    "            # print(\"Time: \", self.time)\n",
    "\n",
    "            if self.available_signal_checking(self.arrival_queue):\n",
    "                self.arrival(customer)\n",
    "            # print(self.car_stereo_representative_queue)\n",
    "            self.service()\n",
    "            # self.departure()\n",
    "            # print(\"Car Stereo Queue: \", self.car_stereo_representative_queue)\n",
    "            # print(\"Others Queue: \", self.others_representative_queue)\n",
    "            # print(\"Server State: \", self.server_state)\n",
    "            # print(\"Time: \", self.time)\n",
    "    "
   ]
  },
  {
   "cell_type": "code",
   "execution_count": 3,
   "metadata": {},
   "outputs": [
    {
     "name": "stdout",
     "output_type": "stream",
     "text": [
      "[0.5488135  0.71518937 0.60276338 0.54488318 0.4236548 ]\n",
      "Arrival\n",
      "Add to Car Stereo Queue\n"
     ]
    },
    {
     "ename": "AttributeError",
     "evalue": "'callCenter' object has no attribute 'service'",
     "output_type": "error",
     "traceback": [
      "\u001b[0;31m---------------------------------------------------------------------------\u001b[0m",
      "\u001b[0;31mAttributeError\u001b[0m                            Traceback (most recent call last)",
      "\u001b[0;32m<ipython-input-3-a95c58504cd2>\u001b[0m in \u001b[0;36m<module>\u001b[0;34m\u001b[0m\n\u001b[1;32m      4\u001b[0m \u001b[0mprint\u001b[0m\u001b[0;34m(\u001b[0m\u001b[0mcustomer_list\u001b[0m\u001b[0;34m)\u001b[0m\u001b[0;34m\u001b[0m\u001b[0;34m\u001b[0m\u001b[0m\n\u001b[1;32m      5\u001b[0m \u001b[0mtest\u001b[0m \u001b[0;34m=\u001b[0m \u001b[0mcallCenter\u001b[0m\u001b[0;34m(\u001b[0m\u001b[0;34m)\u001b[0m\u001b[0;34m\u001b[0m\u001b[0;34m\u001b[0m\u001b[0m\n\u001b[0;32m----> 6\u001b[0;31m \u001b[0mtest\u001b[0m\u001b[0;34m.\u001b[0m\u001b[0mrun\u001b[0m\u001b[0;34m(\u001b[0m\u001b[0mcustomer_list\u001b[0m\u001b[0;34m[\u001b[0m\u001b[0;36m4\u001b[0m\u001b[0;34m]\u001b[0m\u001b[0;34m)\u001b[0m\u001b[0;34m\u001b[0m\u001b[0;34m\u001b[0m\u001b[0m\n\u001b[0m",
      "\u001b[0;32m<ipython-input-1-e990f578cff6>\u001b[0m in \u001b[0;36mrun\u001b[0;34m(self, customer)\u001b[0m\n\u001b[1;32m     52\u001b[0m                 \u001b[0mself\u001b[0m\u001b[0;34m.\u001b[0m\u001b[0marrival\u001b[0m\u001b[0;34m(\u001b[0m\u001b[0mcustomer\u001b[0m\u001b[0;34m)\u001b[0m\u001b[0;34m\u001b[0m\u001b[0;34m\u001b[0m\u001b[0m\n\u001b[1;32m     53\u001b[0m             \u001b[0;31m# print(self.car_stereo_representative_queue)\u001b[0m\u001b[0;34m\u001b[0m\u001b[0;34m\u001b[0m\u001b[0;34m\u001b[0m\u001b[0m\n\u001b[0;32m---> 54\u001b[0;31m             \u001b[0mself\u001b[0m\u001b[0;34m.\u001b[0m\u001b[0mservice\u001b[0m\u001b[0;34m(\u001b[0m\u001b[0;34m)\u001b[0m\u001b[0;34m\u001b[0m\u001b[0;34m\u001b[0m\u001b[0m\n\u001b[0m\u001b[1;32m     55\u001b[0m             \u001b[0;31m# self.departure()\u001b[0m\u001b[0;34m\u001b[0m\u001b[0;34m\u001b[0m\u001b[0;34m\u001b[0m\u001b[0m\n\u001b[1;32m     56\u001b[0m             \u001b[0;31m# print(\"Car Stereo Queue: \", self.car_stereo_representative_queue)\u001b[0m\u001b[0;34m\u001b[0m\u001b[0;34m\u001b[0m\u001b[0;34m\u001b[0m\u001b[0m\n",
      "\u001b[0;31mAttributeError\u001b[0m: 'callCenter' object has no attribute 'service'"
     ]
    }
   ],
   "source": [
    "#implement the simulation clock and the advance of the simulation clock, as well as an event calendar (event list) which is a list of events as they are scheduled. In every simulation, there is only one calendar and it is ordered by the earliest scheduled-time first.\n",
    "#generate 100 customers\n",
    "customer_list = np.random.uniform(0,1,5)\n",
    "print(customer_list)\n",
    "test = callCenter()\n",
    "test.run(customer_list[4])"
   ]
  },
  {
   "cell_type": "code",
   "execution_count": null,
   "metadata": {},
   "outputs": [],
   "source": []
  },
  {
   "cell_type": "code",
   "execution_count": null,
   "metadata": {},
   "outputs": [],
   "source": []
  }
 ],
 "metadata": {
  "kernelspec": {
   "display_name": "Python 3",
   "language": "python",
   "name": "python3"
  },
  "language_info": {
   "codemirror_mode": {
    "name": "ipython",
    "version": 3
   },
   "file_extension": ".py",
   "mimetype": "text/x-python",
   "name": "python",
   "nbconvert_exporter": "python",
   "pygments_lexer": "ipython3",
   "version": "3.8.5"
  }
 },
 "nbformat": 4,
 "nbformat_minor": 4
}
